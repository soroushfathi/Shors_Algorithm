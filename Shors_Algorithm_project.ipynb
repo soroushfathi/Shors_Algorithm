{
 "cells": [
  {
   "cell_type": "code",
   "id": "bace84ce-95cd-4a78-bc76-963ef0000ffd",
   "metadata": {
    "ExecuteTime": {
     "end_time": "2025-09-05T16:11:34.336648Z",
     "start_time": "2025-09-05T16:11:34.329895Z"
    }
   },
   "source": [
    "import numpy as np\n",
    "# Importing standard Qiskit libraries\n",
    "from qiskit import QuantumCircuit, transpile\n",
    "from qiskit_aer import Aer\n",
    "from qiskit_aer.backends.qasm_simulator import QasmSimulator\n",
    "from qiskit.visualization import plot_histogram\n",
    "import pandas as pd\n",
    "from fractions import Fraction\n",
    "\n",
    "print(\"Imports Successful\")"
   ],
   "outputs": [
    {
     "name": "stdout",
     "output_type": "stream",
     "text": [
      "Imports Successful\n"
     ]
    }
   ],
   "execution_count": 8
  },
  {
   "cell_type": "code",
   "id": "453a741d-fd02-4499-9325-0cdc2d161607",
   "metadata": {
    "ExecuteTime": {
     "end_time": "2025-09-05T16:11:41.973563Z",
     "start_time": "2025-09-05T16:11:41.949503Z"
    }
   },
   "source": [
    "#defining the U gates for mod 63\n",
    "def c_amod63(a, power):\n",
    "    \"\"\"Controlled multiplication by a mod 63\"\"\"\n",
    "    if a not in [2, 4, 5, 8, 10, 11, 13, 16, 17, 19, 20, 22, 23, 25, 26, 29, 31, 32, 34, 37, 38, 40, 41, 43, 44, 46, 47, 50, 52, 53, 55, 58, 59, 61, 62]:\n",
    "        raise ValueError(\"'a' must be 2, 4, 5, 8, 10, 11, 13, 16, 17, 19, 20, 22, 23, 25, 26, 29, 31, 32, 34, 37, 38, 40, 41, 43, 44, 46, 47, 50, 52, 53, 55, 58, 59, 61, or 62\")\n",
    "    #the number of qubits used is 6 \n",
    "    U = QuantumCircuit(6) \n",
    "    \n",
    "    #implementing the swap gates for rotation \n",
    "    # we implement every number and see common behavior between the numbers\n",
    "    for iteration in range(power):\n",
    "        \n",
    "        if a in [2,61]:\n",
    "            U.swap(0,1)\n",
    "            U.swap(1,2)\n",
    "            U.swap(2,3)\n",
    "            U.swap(3,4)\n",
    "            U.swap(4,5)\n",
    "\n",
    "        if a in [4, 59]:\n",
    "            U.swap(0,2)\n",
    "            U.swap(1,3)\n",
    "            U.swap(2,4)\n",
    "            U.swap(3,5)\n",
    "            \n",
    "        if a in [5, 58]:\n",
    "            U.swap(0,2)\n",
    "            U.swap(1,3)\n",
    "            U.swap(0,4)\n",
    "            U.swap(1,5)\n",
    "            \n",
    "        if a in [8, 55]:\n",
    "            U.swap(0,3)\n",
    "            U.swap(1,4)\n",
    "            U.swap(2,5)\n",
    "            \n",
    "        if a in [10, 53]:\n",
    "            U.swap(0,2)\n",
    "            U.swap(1,3)\n",
    "            U.swap(0,4)\n",
    "            U.swap(1,5)\n",
    "            U.swap(0,2)\n",
    "            U.swap(1,3)\n",
    "            U.swap(0,4)\n",
    "            U.swap(1,5)\n",
    "            \n",
    "        if a in [11, 52]:\n",
    "            U.swap(0,1)\n",
    "            U.swap(1,2)\n",
    "            U.swap(2,3)\n",
    "            U.swap(3,4)\n",
    "            U.swap(4,5)\n",
    "            U.swap(0,1)\n",
    "            U.swap(1,2)\n",
    "            U.swap(2,3)\n",
    "            U.swap(3,4)\n",
    "            U.swap(4,5)\n",
    "            U.swap(0,1)\n",
    "            U.swap(1,2)\n",
    "            U.swap(2,3)\n",
    "            U.swap(3,4)\n",
    "            U.swap(4,5)\n",
    "            U.swap(0,1)\n",
    "            U.swap(1,2)\n",
    "            U.swap(2,3)\n",
    "            U.swap(3,4)\n",
    "            U.swap(4,5)\n",
    "            \n",
    "        if a in [13, 50]:\n",
    "            U.swap(0,5)\n",
    "            U.swap(1,5)\n",
    "            U.swap(2,5)\n",
    "            U.swap(3,5)\n",
    "            U.swap(4,5)\n",
    "            \n",
    "        if a in [16, 47]:\n",
    "            U.swap(0,1)\n",
    "            U.swap(1,2)\n",
    "            U.swap(2,3)\n",
    "            U.swap(3,4)\n",
    "            U.swap(4,5)\n",
    "            U.swap(0,1)\n",
    "            U.swap(1,2)\n",
    "            U.swap(2,3)\n",
    "            U.swap(3,4)\n",
    "            U.swap(4,5)\n",
    "            U.swap(0,1)\n",
    "            U.swap(1,2)\n",
    "            U.swap(2,3)\n",
    "            U.swap(3,4)\n",
    "            U.swap(4,5)\n",
    "            U.swap(0,1)\n",
    "            U.swap(1,2)\n",
    "            U.swap(2,3)\n",
    "            U.swap(3,4)\n",
    "            U.swap(4,5)\n",
    "            \n",
    "       # if a in [17, 46]:\n",
    "       # if a in [19, 44]:\n",
    "        if a in [20, 43]:\n",
    "            U.swap(0,1)\n",
    "            U.swap(1,2)\n",
    "            U.swap(2,3)\n",
    "            U.swap(3,4)\n",
    "            U.swap(4,5)\n",
    "            \n",
    "        if a in [22, 41]:\n",
    "            U.swap(0,5)\n",
    "            U.swap(1,5)\n",
    "            U.swap(2,5)\n",
    "            U.swap(3,5)\n",
    "            U.swap(4,5)\n",
    "        \n",
    "        if a in [23, 40]: \n",
    "            U.swap(0,2)\n",
    "            U.swap(1,3)\n",
    "            U.swap(2,4)\n",
    "            U.swap(3,5)\n",
    "            \n",
    "        if a in [25, 38]:\n",
    "            U.swap(0,1)\n",
    "            U.swap(1,2)\n",
    "            U.swap(2,3)\n",
    "            U.swap(3,4)\n",
    "            U.swap(4,5)\n",
    "       # if a in [26, 37]:\n",
    "    \n",
    "        if a in [29, 34]:\n",
    "            U.swap(0,1)\n",
    "            U.swap(1,2)\n",
    "            U.swap(2,3)\n",
    "            U.swap(3,4)\n",
    "            U.swap(4,5)\n",
    "            \n",
    "        if a in [31, 32]:\n",
    "            U.swap(0,5)\n",
    "            U.swap(1,5)\n",
    "            U.swap(2,5)\n",
    "            U.swap(3,5)\n",
    "            U.swap(4,5)\n",
    "    \n",
    "        if a in [62]:\n",
    "            U.swap(0,3)\n",
    "            U.swap(1,4)\n",
    "            U.swap(2,5)\n",
    "            \n",
    "        if a in [5, 11, 13, 17, 19, 23, 25, 29, 31, 37, 41, 43, 47, 53, 55, 59, 61]:\n",
    "            for q in range(6):\n",
    "                U.x(q)\n",
    "    U = U.to_gate()\n",
    "    U.name = \"%i^%i mod 63\" % (a, power)\n",
    "    c_U = U.control()\n",
    "    return c_U"
   ],
   "outputs": [],
   "execution_count": 9
  },
  {
   "cell_type": "code",
   "id": "6565a1fa-cab2-40ad-9a7a-78e43ac11c19",
   "metadata": {
    "ExecuteTime": {
     "end_time": "2025-09-05T16:11:43.945889Z",
     "start_time": "2025-09-05T16:11:43.941258Z"
    }
   },
   "source": [
    "# Specify variables\n",
    "n_count = 10  # number of counting qubits\n",
    "a = 13"
   ],
   "outputs": [],
   "execution_count": 10
  },
  {
   "cell_type": "code",
   "id": "68e40b9b-ebe9-477d-b179-62bf7abaea8d",
   "metadata": {
    "ExecuteTime": {
     "end_time": "2025-09-05T16:11:44.783564Z",
     "start_time": "2025-09-05T16:11:44.777095Z"
    }
   },
   "source": [
    "def qft_dagger(n):\n",
    "    \"\"\"n-qubit QFTdagger the first n qubits in circ\"\"\"\n",
    "    qc = QuantumCircuit(n)\n",
    "    # Don't forget the Swaps!\n",
    "    for qubit in range(n//2):\n",
    "        qc.swap(qubit, n-qubit-1)\n",
    "    for j in range(n):\n",
    "        for m in range(j):\n",
    "            qc.cp(-np.pi/float(2**(j-m)), m, j)\n",
    "        qc.h(j)\n",
    "    qc.name = \"QFT†\"\n",
    "    return qc"
   ],
   "outputs": [],
   "execution_count": 11
  },
  {
   "cell_type": "code",
   "id": "36925229-a6b1-4028-88e6-07988d94d96b",
   "metadata": {
    "ExecuteTime": {
     "end_time": "2025-09-05T16:11:46.535597Z",
     "start_time": "2025-09-05T16:11:45.538368Z"
    }
   },
   "source": [
    "# Create QuantumCircuit with n_count counting qubits\n",
    "# plus 4 qubits for U to act on\n",
    "qc = QuantumCircuit(n_count + 10, n_count)\n",
    "\n",
    "# Initialize counting qubits\n",
    "# in state |+>\n",
    "for q in range(n_count):\n",
    "    qc.h(q)\n",
    "    \n",
    "# And auxiliary register in state |1>\n",
    "qc.x(3+n_count)\n",
    "\n",
    "# Do controlled-U operations\n",
    "for q in range(n_count):\n",
    "    qc.append(c_amod63(a, 2**q), \n",
    "             [q] + [i+n_count for i in range(6)])\n",
    "\n",
    "# Do inverse-QFT\n",
    "qc.append(qft_dagger(n_count), range(n_count))\n",
    "\n",
    "# Measure circuit\n",
    "qc.measure(range(n_count), range(n_count))\n",
    "qc.draw(fold=-1)  # -1 means 'do not fold' "
   ],
   "outputs": [
    {
     "data": {
      "text/plain": [
       "      ┌───┐                                                                                                                                                                         ┌───────┐┌─┐                           \n",
       " q_0: ┤ H ├───────■─────────────────────────────────────────────────────────────────────────────────────────────────────────────────────────────────────────────────────────────────┤0      ├┤M├───────────────────────────\n",
       "      ├───┤       │                                                                                                                                                                 │       │└╥┘┌─┐                        \n",
       " q_1: ┤ H ├───────┼───────────────■─────────────────────────────────────────────────────────────────────────────────────────────────────────────────────────────────────────────────┤1      ├─╫─┤M├────────────────────────\n",
       "      ├───┤       │               │                                                                                                                                                 │       │ ║ └╥┘┌─┐                     \n",
       " q_2: ┤ H ├───────┼───────────────┼───────────────■─────────────────────────────────────────────────────────────────────────────────────────────────────────────────────────────────┤2      ├─╫──╫─┤M├─────────────────────\n",
       "      ├───┤       │               │               │                                                                                                                                 │       │ ║  ║ └╥┘┌─┐                  \n",
       " q_3: ┤ H ├───────┼───────────────┼───────────────┼───────────────■─────────────────────────────────────────────────────────────────────────────────────────────────────────────────┤3      ├─╫──╫──╫─┤M├──────────────────\n",
       "      ├───┤       │               │               │               │                                                                                                                 │       │ ║  ║  ║ └╥┘┌─┐               \n",
       " q_4: ┤ H ├───────┼───────────────┼───────────────┼───────────────┼────────────────■────────────────────────────────────────────────────────────────────────────────────────────────┤4      ├─╫──╫──╫──╫─┤M├───────────────\n",
       "      ├───┤       │               │               │               │                │                                                                                                │  QFT† │ ║  ║  ║  ║ └╥┘┌─┐            \n",
       " q_5: ┤ H ├───────┼───────────────┼───────────────┼───────────────┼────────────────┼────────────────■───────────────────────────────────────────────────────────────────────────────┤5      ├─╫──╫──╫──╫──╫─┤M├────────────\n",
       "      ├───┤       │               │               │               │                │                │                                                                               │       │ ║  ║  ║  ║  ║ └╥┘┌─┐         \n",
       " q_6: ┤ H ├───────┼───────────────┼───────────────┼───────────────┼────────────────┼────────────────┼────────────────■──────────────────────────────────────────────────────────────┤6      ├─╫──╫──╫──╫──╫──╫─┤M├─────────\n",
       "      ├───┤       │               │               │               │                │                │                │                                                              │       │ ║  ║  ║  ║  ║  ║ └╥┘┌─┐      \n",
       " q_7: ┤ H ├───────┼───────────────┼───────────────┼───────────────┼────────────────┼────────────────┼────────────────┼────────────────■─────────────────────────────────────────────┤7      ├─╫──╫──╫──╫──╫──╫──╫─┤M├──────\n",
       "      ├───┤       │               │               │               │                │                │                │                │                                             │       │ ║  ║  ║  ║  ║  ║  ║ └╥┘┌─┐   \n",
       " q_8: ┤ H ├───────┼───────────────┼───────────────┼───────────────┼────────────────┼────────────────┼────────────────┼────────────────┼─────────────────■───────────────────────────┤8      ├─╫──╫──╫──╫──╫──╫──╫──╫─┤M├───\n",
       "      ├───┤       │               │               │               │                │                │                │                │                 │                           │       │ ║  ║  ║  ║  ║  ║  ║  ║ └╥┘┌─┐\n",
       " q_9: ┤ H ├───────┼───────────────┼───────────────┼───────────────┼────────────────┼────────────────┼────────────────┼────────────────┼─────────────────┼─────────────────■─────────┤9      ├─╫──╫──╫──╫──╫──╫──╫──╫──╫─┤M├\n",
       "      └───┘┌──────┴───────┐┌──────┴───────┐┌──────┴───────┐┌──────┴───────┐┌───────┴───────┐┌───────┴───────┐┌───────┴───────┐┌───────┴────────┐┌───────┴────────┐┌───────┴────────┐└───────┘ ║  ║  ║  ║  ║  ║  ║  ║  ║ └╥┘\n",
       "q_10: ─────┤0             ├┤0             ├┤0             ├┤0             ├┤0              ├┤0              ├┤0              ├┤0               ├┤0               ├┤0               ├──────────╫──╫──╫──╫──╫──╫──╫──╫──╫──╫─\n",
       "           │              ││              ││              ││              ││               ││               ││               ││                ││                ││                │          ║  ║  ║  ║  ║  ║  ║  ║  ║  ║ \n",
       "q_11: ─────┤1             ├┤1             ├┤1             ├┤1             ├┤1              ├┤1              ├┤1              ├┤1               ├┤1               ├┤1               ├──────────╫──╫──╫──╫──╫──╫──╫──╫──╫──╫─\n",
       "           │              ││              ││              ││              ││               ││               ││               ││                ││                ││                │          ║  ║  ║  ║  ║  ║  ║  ║  ║  ║ \n",
       "q_12: ─────┤2             ├┤2             ├┤2             ├┤2             ├┤2              ├┤2              ├┤2              ├┤2               ├┤2               ├┤2               ├──────────╫──╫──╫──╫──╫──╫──╫──╫──╫──╫─\n",
       "      ┌───┐│  13^1 mod 63 ││  13^2 mod 63 ││  13^4 mod 63 ││  13^8 mod 63 ││  13^16 mod 63 ││  13^32 mod 63 ││  13^64 mod 63 ││  13^128 mod 63 ││  13^256 mod 63 ││  13^512 mod 63 │          ║  ║  ║  ║  ║  ║  ║  ║  ║  ║ \n",
       "q_13: ┤ X ├┤3             ├┤3             ├┤3             ├┤3             ├┤3              ├┤3              ├┤3              ├┤3               ├┤3               ├┤3               ├──────────╫──╫──╫──╫──╫──╫──╫──╫──╫──╫─\n",
       "      └───┘│              ││              ││              ││              ││               ││               ││               ││                ││                ││                │          ║  ║  ║  ║  ║  ║  ║  ║  ║  ║ \n",
       "q_14: ─────┤4             ├┤4             ├┤4             ├┤4             ├┤4              ├┤4              ├┤4              ├┤4               ├┤4               ├┤4               ├──────────╫──╫──╫──╫──╫──╫──╫──╫──╫──╫─\n",
       "           │              ││              ││              ││              ││               ││               ││               ││                ││                ││                │          ║  ║  ║  ║  ║  ║  ║  ║  ║  ║ \n",
       "q_15: ─────┤5             ├┤5             ├┤5             ├┤5             ├┤5              ├┤5              ├┤5              ├┤5               ├┤5               ├┤5               ├──────────╫──╫──╫──╫──╫──╫──╫──╫──╫──╫─\n",
       "           └──────────────┘└──────────────┘└──────────────┘└──────────────┘└───────────────┘└───────────────┘└───────────────┘└────────────────┘└────────────────┘└────────────────┘          ║  ║  ║  ║  ║  ║  ║  ║  ║  ║ \n",
       "q_16: ────────────────────────────────────────────────────────────────────────────────────────────────────────────────────────────────────────────────────────────────────────────────────────╫──╫──╫──╫──╫──╫──╫──╫──╫──╫─\n",
       "                                                                                                                                                                                              ║  ║  ║  ║  ║  ║  ║  ║  ║  ║ \n",
       "q_17: ────────────────────────────────────────────────────────────────────────────────────────────────────────────────────────────────────────────────────────────────────────────────────────╫──╫──╫──╫──╫──╫──╫──╫──╫──╫─\n",
       "                                                                                                                                                                                              ║  ║  ║  ║  ║  ║  ║  ║  ║  ║ \n",
       "q_18: ────────────────────────────────────────────────────────────────────────────────────────────────────────────────────────────────────────────────────────────────────────────────────────╫──╫──╫──╫──╫──╫──╫──╫──╫──╫─\n",
       "                                                                                                                                                                                              ║  ║  ║  ║  ║  ║  ║  ║  ║  ║ \n",
       "q_19: ────────────────────────────────────────────────────────────────────────────────────────────────────────────────────────────────────────────────────────────────────────────────────────╫──╫──╫──╫──╫──╫──╫──╫──╫──╫─\n",
       "                                                                                                                                                                                              ║  ║  ║  ║  ║  ║  ║  ║  ║  ║ \n",
       "c: 10/════════════════════════════════════════════════════════════════════════════════════════════════════════════════════════════════════════════════════════════════════════════════════════╩══╩══╩══╩══╩══╩══╩══╩══╩══╩═\n",
       "                                                                                                                                                                                              0  1  2  3  4  5  6  7  8  9 "
      ],
      "text/html": [
       "<pre style=\"word-wrap: normal;white-space: pre;background: #fff0;line-height: 1.1;font-family: &quot;Courier New&quot;,Courier,monospace\">      ┌───┐                                                                                                                                                                         ┌───────┐┌─┐                           \n",
       " q_0: ┤ H ├───────■─────────────────────────────────────────────────────────────────────────────────────────────────────────────────────────────────────────────────────────────────┤0      ├┤M├───────────────────────────\n",
       "      ├───┤       │                                                                                                                                                                 │       │└╥┘┌─┐                        \n",
       " q_1: ┤ H ├───────┼───────────────■─────────────────────────────────────────────────────────────────────────────────────────────────────────────────────────────────────────────────┤1      ├─╫─┤M├────────────────────────\n",
       "      ├───┤       │               │                                                                                                                                                 │       │ ║ └╥┘┌─┐                     \n",
       " q_2: ┤ H ├───────┼───────────────┼───────────────■─────────────────────────────────────────────────────────────────────────────────────────────────────────────────────────────────┤2      ├─╫──╫─┤M├─────────────────────\n",
       "      ├───┤       │               │               │                                                                                                                                 │       │ ║  ║ └╥┘┌─┐                  \n",
       " q_3: ┤ H ├───────┼───────────────┼───────────────┼───────────────■─────────────────────────────────────────────────────────────────────────────────────────────────────────────────┤3      ├─╫──╫──╫─┤M├──────────────────\n",
       "      ├───┤       │               │               │               │                                                                                                                 │       │ ║  ║  ║ └╥┘┌─┐               \n",
       " q_4: ┤ H ├───────┼───────────────┼───────────────┼───────────────┼────────────────■────────────────────────────────────────────────────────────────────────────────────────────────┤4      ├─╫──╫──╫──╫─┤M├───────────────\n",
       "      ├───┤       │               │               │               │                │                                                                                                │  QFT† │ ║  ║  ║  ║ └╥┘┌─┐            \n",
       " q_5: ┤ H ├───────┼───────────────┼───────────────┼───────────────┼────────────────┼────────────────■───────────────────────────────────────────────────────────────────────────────┤5      ├─╫──╫──╫──╫──╫─┤M├────────────\n",
       "      ├───┤       │               │               │               │                │                │                                                                               │       │ ║  ║  ║  ║  ║ └╥┘┌─┐         \n",
       " q_6: ┤ H ├───────┼───────────────┼───────────────┼───────────────┼────────────────┼────────────────┼────────────────■──────────────────────────────────────────────────────────────┤6      ├─╫──╫──╫──╫──╫──╫─┤M├─────────\n",
       "      ├───┤       │               │               │               │                │                │                │                                                              │       │ ║  ║  ║  ║  ║  ║ └╥┘┌─┐      \n",
       " q_7: ┤ H ├───────┼───────────────┼───────────────┼───────────────┼────────────────┼────────────────┼────────────────┼────────────────■─────────────────────────────────────────────┤7      ├─╫──╫──╫──╫──╫──╫──╫─┤M├──────\n",
       "      ├───┤       │               │               │               │                │                │                │                │                                             │       │ ║  ║  ║  ║  ║  ║  ║ └╥┘┌─┐   \n",
       " q_8: ┤ H ├───────┼───────────────┼───────────────┼───────────────┼────────────────┼────────────────┼────────────────┼────────────────┼─────────────────■───────────────────────────┤8      ├─╫──╫──╫──╫──╫──╫──╫──╫─┤M├───\n",
       "      ├───┤       │               │               │               │                │                │                │                │                 │                           │       │ ║  ║  ║  ║  ║  ║  ║  ║ └╥┘┌─┐\n",
       " q_9: ┤ H ├───────┼───────────────┼───────────────┼───────────────┼────────────────┼────────────────┼────────────────┼────────────────┼─────────────────┼─────────────────■─────────┤9      ├─╫──╫──╫──╫──╫──╫──╫──╫──╫─┤M├\n",
       "      └───┘┌──────┴───────┐┌──────┴───────┐┌──────┴───────┐┌──────┴───────┐┌───────┴───────┐┌───────┴───────┐┌───────┴───────┐┌───────┴────────┐┌───────┴────────┐┌───────┴────────┐└───────┘ ║  ║  ║  ║  ║  ║  ║  ║  ║ └╥┘\n",
       "q_10: ─────┤0             ├┤0             ├┤0             ├┤0             ├┤0              ├┤0              ├┤0              ├┤0               ├┤0               ├┤0               ├──────────╫──╫──╫──╫──╫──╫──╫──╫──╫──╫─\n",
       "           │              ││              ││              ││              ││               ││               ││               ││                ││                ││                │          ║  ║  ║  ║  ║  ║  ║  ║  ║  ║ \n",
       "q_11: ─────┤1             ├┤1             ├┤1             ├┤1             ├┤1              ├┤1              ├┤1              ├┤1               ├┤1               ├┤1               ├──────────╫──╫──╫──╫──╫──╫──╫──╫──╫──╫─\n",
       "           │              ││              ││              ││              ││               ││               ││               ││                ││                ││                │          ║  ║  ║  ║  ║  ║  ║  ║  ║  ║ \n",
       "q_12: ─────┤2             ├┤2             ├┤2             ├┤2             ├┤2              ├┤2              ├┤2              ├┤2               ├┤2               ├┤2               ├──────────╫──╫──╫──╫──╫──╫──╫──╫──╫──╫─\n",
       "      ┌───┐│  13^1 mod 63 ││  13^2 mod 63 ││  13^4 mod 63 ││  13^8 mod 63 ││  13^16 mod 63 ││  13^32 mod 63 ││  13^64 mod 63 ││  13^128 mod 63 ││  13^256 mod 63 ││  13^512 mod 63 │          ║  ║  ║  ║  ║  ║  ║  ║  ║  ║ \n",
       "q_13: ┤ X ├┤3             ├┤3             ├┤3             ├┤3             ├┤3              ├┤3              ├┤3              ├┤3               ├┤3               ├┤3               ├──────────╫──╫──╫──╫──╫──╫──╫──╫──╫──╫─\n",
       "      └───┘│              ││              ││              ││              ││               ││               ││               ││                ││                ││                │          ║  ║  ║  ║  ║  ║  ║  ║  ║  ║ \n",
       "q_14: ─────┤4             ├┤4             ├┤4             ├┤4             ├┤4              ├┤4              ├┤4              ├┤4               ├┤4               ├┤4               ├──────────╫──╫──╫──╫──╫──╫──╫──╫──╫──╫─\n",
       "           │              ││              ││              ││              ││               ││               ││               ││                ││                ││                │          ║  ║  ║  ║  ║  ║  ║  ║  ║  ║ \n",
       "q_15: ─────┤5             ├┤5             ├┤5             ├┤5             ├┤5              ├┤5              ├┤5              ├┤5               ├┤5               ├┤5               ├──────────╫──╫──╫──╫──╫──╫──╫──╫──╫──╫─\n",
       "           └──────────────┘└──────────────┘└──────────────┘└──────────────┘└───────────────┘└───────────────┘└───────────────┘└────────────────┘└────────────────┘└────────────────┘          ║  ║  ║  ║  ║  ║  ║  ║  ║  ║ \n",
       "q_16: ────────────────────────────────────────────────────────────────────────────────────────────────────────────────────────────────────────────────────────────────────────────────────────╫──╫──╫──╫──╫──╫──╫──╫──╫──╫─\n",
       "                                                                                                                                                                                              ║  ║  ║  ║  ║  ║  ║  ║  ║  ║ \n",
       "q_17: ────────────────────────────────────────────────────────────────────────────────────────────────────────────────────────────────────────────────────────────────────────────────────────╫──╫──╫──╫──╫──╫──╫──╫──╫──╫─\n",
       "                                                                                                                                                                                              ║  ║  ║  ║  ║  ║  ║  ║  ║  ║ \n",
       "q_18: ────────────────────────────────────────────────────────────────────────────────────────────────────────────────────────────────────────────────────────────────────────────────────────╫──╫──╫──╫──╫──╫──╫──╫──╫──╫─\n",
       "                                                                                                                                                                                              ║  ║  ║  ║  ║  ║  ║  ║  ║  ║ \n",
       "q_19: ────────────────────────────────────────────────────────────────────────────────────────────────────────────────────────────────────────────────────────────────────────────────────────╫──╫──╫──╫──╫──╫──╫──╫──╫──╫─\n",
       "                                                                                                                                                                                              ║  ║  ║  ║  ║  ║  ║  ║  ║  ║ \n",
       "c: 10/════════════════════════════════════════════════════════════════════════════════════════════════════════════════════════════════════════════════════════════════════════════════════════╩══╩══╩══╩══╩══╩══╩══╩══╩══╩═\n",
       "                                                                                                                                                                                              0  1  2  3  4  5  6  7  8  9 </pre>"
      ]
     },
     "execution_count": 12,
     "metadata": {},
     "output_type": "execute_result"
    }
   ],
   "execution_count": 12
  },
  {
   "cell_type": "code",
   "id": "ed38c184-0d04-48e8-b610-3ddc70282525",
   "metadata": {
    "ExecuteTime": {
     "end_time": "2025-09-05T16:11:52.749370Z",
     "start_time": "2025-09-05T16:11:49.621614Z"
    }
   },
   "source": [
    "aer_sim = Aer.get_backend('aer_simulator')\n",
    "t_qc = transpile(qc, aer_sim)\n",
    "# qobj = assemble(t_qc)\n",
    "results = aer_sim.run(t_qc).result()\n",
    "counts = results.get_counts()\n",
    "plot_histogram(counts)"
   ],
   "outputs": [
    {
     "data": {
      "text/plain": [
       "<Figure size 640x480 with 1 Axes>"
      ],
      "image/png": "[encoded data removed]"
     },
     "execution_count": 13,
     "metadata": {},
     "output_type": "execute_result"
    }
   ],
   "execution_count": 13
  },
  {
   "cell_type": "code",
   "id": "49446009-ffa3-4fcf-a2bd-ee7d1fb4c459",
   "metadata": {
    "ExecuteTime": {
     "end_time": "2025-09-05T16:12:07.001660Z",
     "start_time": "2025-09-05T16:12:06.986683Z"
    }
   },
   "source": [
    "rows, measured_phases = [], []\n",
    "for output in counts:\n",
    "    decimal = int(output, 2)  # Convert (base 2) string to decimal\n",
    "    phase = decimal/(2**n_count)  # Find corresponding eigenvalue\n",
    "    measured_phases.append(phase)\n",
    "    # Add these values to the rows in our table:\n",
    "    rows.append([f\"{output}(bin) = {decimal:>3}(dec)\", \n",
    "                 f\"{decimal}/{2**n_count} = {phase:.2f}\"])\n",
    "# Print the rows in a table\n",
    "headers=[\"Register Output\", \"Phase\"]\n",
    "df = pd.DataFrame(rows, columns=headers)\n",
    "print(df)"
   ],
   "outputs": [
    {
     "name": "stdout",
     "output_type": "stream",
     "text": [
      "               Register Output            Phase\n",
      "0   1010101011(bin) = 683(dec)  683/1024 = 0.67\n",
      "1   0101010101(bin) = 341(dec)  341/1024 = 0.33\n",
      "2   0010101011(bin) = 171(dec)  171/1024 = 0.17\n",
      "3   1101011000(bin) = 856(dec)  856/1024 = 0.84\n",
      "4   0010101010(bin) = 170(dec)  170/1024 = 0.17\n",
      "5   0010101001(bin) = 169(dec)  169/1024 = 0.17\n",
      "6   0000000000(bin) =   0(dec)    0/1024 = 0.00\n",
      "7   1010101100(bin) = 684(dec)  684/1024 = 0.67\n",
      "8   0101010100(bin) = 340(dec)  340/1024 = 0.33\n",
      "9   0010101100(bin) = 172(dec)  172/1024 = 0.17\n",
      "10  1000000000(bin) = 512(dec)  512/1024 = 0.50\n",
      "11  1101010101(bin) = 853(dec)  853/1024 = 0.83\n",
      "12  1101010110(bin) = 854(dec)  854/1024 = 0.83\n",
      "13  1010101010(bin) = 682(dec)  682/1024 = 0.67\n",
      "14  0101010110(bin) = 342(dec)  342/1024 = 0.33\n",
      "15  1101011010(bin) = 858(dec)  858/1024 = 0.84\n",
      "16  1110010101(bin) = 917(dec)  917/1024 = 0.90\n",
      "17  0010101000(bin) = 168(dec)  168/1024 = 0.16\n",
      "18  0101010011(bin) = 339(dec)  339/1024 = 0.33\n",
      "19  1010101101(bin) = 685(dec)  685/1024 = 0.67\n",
      "20  0010101101(bin) = 173(dec)  173/1024 = 0.17\n",
      "21  1101010011(bin) = 851(dec)  851/1024 = 0.83\n",
      "22  1101010111(bin) = 855(dec)  855/1024 = 0.83\n",
      "23  1101011110(bin) = 862(dec)  862/1024 = 0.84\n",
      "24  1101010010(bin) = 850(dec)  850/1024 = 0.83\n",
      "25  1110100000(bin) = 928(dec)  928/1024 = 0.91\n",
      "26  1010100101(bin) = 677(dec)  677/1024 = 0.66\n",
      "27  0011001000(bin) = 200(dec)  200/1024 = 0.20\n",
      "28  0010101111(bin) = 175(dec)  175/1024 = 0.17\n",
      "29  1101010100(bin) = 852(dec)  852/1024 = 0.83\n",
      "30  1010110100(bin) = 692(dec)  692/1024 = 0.68\n",
      "31  0101010010(bin) = 338(dec)  338/1024 = 0.33\n",
      "32  1010101000(bin) = 680(dec)  680/1024 = 0.66\n",
      "33  0101110011(bin) = 371(dec)  371/1024 = 0.36\n",
      "34  0110101011(bin) = 427(dec)  427/1024 = 0.42\n",
      "35  1101010000(bin) = 848(dec)  848/1024 = 0.83\n",
      "36  1010110000(bin) = 688(dec)  688/1024 = 0.67\n",
      "37  0101010001(bin) = 337(dec)  337/1024 = 0.33\n",
      "38  0010101110(bin) = 174(dec)  174/1024 = 0.17\n",
      "39  0101011001(bin) = 345(dec)  345/1024 = 0.34\n",
      "40  0101010111(bin) = 343(dec)  343/1024 = 0.33\n",
      "41  1010101001(bin) = 681(dec)  681/1024 = 0.67\n",
      "42  0101011010(bin) = 346(dec)  346/1024 = 0.34\n",
      "43  1010111011(bin) = 699(dec)  699/1024 = 0.68\n",
      "44  1010111001(bin) = 697(dec)  697/1024 = 0.68\n"
     ]
    }
   ],
   "execution_count": 14
  },
  {
   "cell_type": "code",
   "id": "a9e33d37-219f-4a4c-baa5-17514de44653",
   "metadata": {
    "ExecuteTime": {
     "end_time": "2025-09-05T16:12:16.357525Z",
     "start_time": "2025-09-05T16:12:16.352117Z"
    }
   },
   "source": [
    "Fraction(0.666)"
   ],
   "outputs": [
    {
     "data": {
      "text/plain": [
       "Fraction(5998794703657501, 9007199254740992)"
      ]
     },
     "execution_count": 15,
     "metadata": {},
     "output_type": "execute_result"
    }
   ],
   "execution_count": 15
  },
  {
   "cell_type": "code",
   "execution_count": 29,
   "id": "3b154276-b75c-49a9-8486-2da768783fad",
   "metadata": {},
   "outputs": [
    {
     "data": {
      "text/plain": [
       "Fraction(2, 3)"
      ]
     },
     "execution_count": 29,
     "metadata": {},
     "output_type": "execute_result"
    }
   ],
   "source": [
    "# Get fraction that most closely resembles 0.666\n",
    "# with denominator < 63\n",
    "Fraction(0.666).limit_denominator(63)"
   ]
  },
  {
   "cell_type": "code",
   "id": "e964dd6c-59bd-4c0f-b023-25225ff628e5",
   "metadata": {
    "ExecuteTime": {
     "end_time": "2025-09-05T16:12:24.899690Z",
     "start_time": "2025-09-05T16:12:24.887754Z"
    }
   },
   "source": [
    "\n",
    "rows = []\n",
    "for phase in measured_phases:\n",
    "    frac = Fraction(phase).limit_denominator(63)\n",
    "    rows.append([phase, f\"{frac.numerator}/{frac.denominator}\", frac.denominator])\n",
    "# Print as a table\n",
    "headers=[\"Phase\", \"Fraction\", \"Guess for r\"]\n",
    "df = pd.DataFrame(rows, columns=headers)\n",
    "print(df)"
   ],
   "outputs": [
    {
     "name": "stdout",
     "output_type": "stream",
     "text": [
      "       Phase Fraction  Guess for r\n",
      "0   0.666992      2/3            3\n",
      "1   0.333008      1/3            3\n",
      "2   0.166992      1/6            6\n",
      "3   0.835938    51/61           61\n",
      "4   0.166016      1/6            6\n",
      "5   0.165039    10/61           61\n",
      "6   0.000000      0/1            1\n",
      "7   0.667969      2/3            3\n",
      "8   0.332031      1/3            3\n",
      "9   0.167969      1/6            6\n",
      "10  0.500000      1/2            2\n",
      "11  0.833008      5/6            6\n",
      "12  0.833984      5/6            6\n",
      "13  0.666016      2/3            3\n",
      "14  0.333984      1/3            3\n",
      "15  0.837891    31/37           37\n",
      "16  0.895508    43/48           48\n",
      "17  0.164062    10/61           61\n",
      "18  0.331055      1/3            3\n",
      "19  0.668945      2/3            3\n",
      "20  0.168945    10/59           59\n",
      "21  0.831055    49/59           59\n",
      "22  0.834961    51/61           61\n",
      "23  0.841797    16/19           19\n",
      "24  0.830078    44/53           53\n",
      "25  0.906250    29/32           32\n",
      "26  0.661133    39/59           59\n",
      "27  0.195312     8/41           41\n",
      "28  0.170898     7/41           41\n",
      "29  0.832031      5/6            6\n",
      "30  0.675781    25/37           37\n",
      "31  0.330078    20/61           61\n",
      "32  0.664062      2/3            3\n",
      "33  0.362305    21/58           58\n",
      "34  0.416992     5/12           12\n",
      "35  0.828125    29/35           35\n",
      "36  0.671875    41/61           61\n",
      "37  0.329102    20/61           61\n",
      "38  0.169922     9/53           53\n",
      "39  0.336914    21/62           62\n",
      "40  0.334961      1/3            3\n",
      "41  0.665039      2/3            3\n",
      "42  0.337891    21/62           62\n",
      "43  0.682617    43/63           63\n",
      "44  0.680664    32/47           47\n"
     ]
    }
   ],
   "execution_count": 16
  },
  {
   "cell_type": "code",
   "execution_count": null,
   "id": "1096e10f-2ec3-405b-958c-976a183f7aaf",
   "metadata": {},
   "outputs": [],
   "source": []
  }
 ],
 "metadata": {
  "kernelspec": {
   "display_name": "Qiskit v0.35.0 (ipykernel)",
   "language": "python",
   "name": "python3"
  },
  "language_info": {
   "codemirror_mode": {
    "name": "ipython",
    "version": 3
   },
   "file_extension": ".py",
   "mimetype": "text/x-python",
   "name": "python",
   "nbconvert_exporter": "python",
   "pygments_lexer": "ipython3",
   "version": "3.8.13"
  },
  "widgets": {
   "application/vnd.jupyter.widget-state+json": {
    "state": {},
    "version_major": 2,
    "version_minor": 0
   }
  }
 },
 "nbformat": 4,
 "nbformat_minor": 5
}
